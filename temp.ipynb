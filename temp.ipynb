{
 "cells": [
  {
   "cell_type": "code",
   "execution_count": 3,
   "metadata": {},
   "outputs": [
    {
     "name": "stderr",
     "output_type": "stream",
     "text": [
      "Comparing files in folder1:   9%|▉         | 5327/57351 [00:00<00:03, 14205.85it/s]"
     ]
    },
    {
     "name": "stderr",
     "output_type": "stream",
     "text": [
      "Comparing files in folder1: 100%|██████████| 57351/57351 [00:36<00:00, 1556.13it/s]"
     ]
    },
    {
     "name": "stdout",
     "output_type": "stream",
     "text": [
      "Number of different files: 1\n"
     ]
    },
    {
     "name": "stderr",
     "output_type": "stream",
     "text": [
      "\n"
     ]
    }
   ],
   "source": [
    "import filecmp\n",
    "import os\n",
    "from tqdm import tqdm\n",
    "\n",
    "def count_different_files(folder1, folder2):\n",
    "    # Get lists of files in each folder\n",
    "    files1 = os.listdir(folder1)\n",
    "    files2 = os.listdir(folder2)\n",
    "    \n",
    "    # Initialize a counter for different files\n",
    "    different_files_count = 0\n",
    "    \n",
    "    # Progress bar for the first loop\n",
    "    with tqdm(total=len(files1), desc=\"Comparing files in folder1\") as pbar1:\n",
    "        # Iterate through files in folder1\n",
    "        for file1 in files1:\n",
    "            # Check if the file exists in folder2\n",
    "            if file1 in files2:\n",
    "                # Construct full paths for comparison\n",
    "                path1 = os.path.join(folder1, file1)\n",
    "                path2 = os.path.join(folder2, file1)\n",
    "                # Compare the files\n",
    "                if not filecmp.cmp(path1, path2):\n",
    "                    different_files_count += 1\n",
    "            else:\n",
    "                different_files_count += 1\n",
    "            pbar1.update(1)\n",
    "    \n",
    "    # # Progress bar for the second loop\n",
    "    # with tqdm(total=len(files2), desc=\"Checking files in folder2\") as pbar2:\n",
    "    #     # Check for files in folder2 that are not in folder1\n",
    "    #     for file2 in files2:\n",
    "    #         if file2 not in files1:\n",
    "    #             different_files_count += 1\n",
    "    #         pbar2.update(1)\n",
    "    \n",
    "    return different_files_count\n",
    "\n",
    "# Example usage:\n",
    "folder1 = \"/data/Vaani/Dataset/Audios_all_district_vaani_1/Etah\"\n",
    "folder2 = \"/data/Vaani/Dataset/Audios_all_district_vaani_3/Etah\"\n",
    "num_different_files = count_different_files(folder1, folder2)\n",
    "print(\"Number of different files:\", num_different_files)\n"
   ]
  },
  {
   "cell_type": "code",
   "execution_count": null,
   "metadata": {},
   "outputs": [],
   "source": []
  }
 ],
 "metadata": {
  "kernelspec": {
   "display_name": "pyannote",
   "language": "python",
   "name": "python3"
  },
  "language_info": {
   "codemirror_mode": {
    "name": "ipython",
    "version": 3
   },
   "file_extension": ".py",
   "mimetype": "text/x-python",
   "name": "python",
   "nbconvert_exporter": "python",
   "pygments_lexer": "ipython3",
   "version": "3.8.19"
  }
 },
 "nbformat": 4,
 "nbformat_minor": 2
}
